{
 "metadata": {
  "name": "",
  "signature": "sha256:82a3d50ec18341462d6b590cc9b9fb6547eacd637a42f4d37aac837ba31a0371"
 },
 "nbformat": 3,
 "nbformat_minor": 0,
 "worksheets": [
  {
   "cells": [
    {
     "cell_type": "code",
     "collapsed": false,
     "input": [
      "import numpy as np\n"
     ],
     "language": "python",
     "metadata": {},
     "outputs": [],
     "prompt_number": 1
    },
    {
     "cell_type": "code",
     "collapsed": false,
     "input": [
      "area_list=[('SA',9,[10,800],[600,800]),('CC',12,[10,700],[700,700]),('OR',14,[10,500],[800,700])]"
     ],
     "language": "python",
     "metadata": {},
     "outputs": [],
     "prompt_number": 2
    },
    {
     "cell_type": "code",
     "collapsed": false,
     "input": [
      "signalgroupN = [iarea_list[1] for iarea_list in area_list]\n"
     ],
     "language": "python",
     "metadata": {},
     "outputs": [
      {
       "output_type": "stream",
       "stream": "stdout",
       "text": [
        "[9, 12, 14]\n"
       ]
      }
     ],
     "prompt_number": 4
    },
    {
     "cell_type": "code",
     "collapsed": false,
     "input": [
      "inodelabel=0\n",
      "signalgroup=[]\n",
      "for isingalN in signalgroupN:\n",
      "    ig=(inodelabel+1,inodelabel+isingalN)\n",
      "    inodelabel=inodelabel+isingalN\n",
      "    signalgroup.append(ig)\n"
     ],
     "language": "python",
     "metadata": {},
     "outputs": [],
     "prompt_number": 5
    },
    {
     "cell_type": "code",
     "collapsed": false,
     "input": [
      "ilistCa=(0,1)\n",
      "nodelabels=np.concatenate([np.arange(signalgroup[ilistCa[0]][0],signalgroup[ilistCa[0]][1]+1).astype(int),np.arange(signalgroup[ilistCa[1]][0],signalgroup[ilistCa[1]][1]+1).astype(int)])"
     ],
     "language": "python",
     "metadata": {},
     "outputs": [],
     "prompt_number": 7
    },
    {
     "cell_type": "code",
     "collapsed": false,
     "input": [
      "nodelabels"
     ],
     "language": "python",
     "metadata": {},
     "outputs": [
      {
       "metadata": {},
       "output_type": "pyout",
       "prompt_number": 8,
       "text": [
        "array([22, 23, 24, 25, 26, 27, 28, 29, 30, 31, 32, 33, 34, 35,  1,  2,  3,\n",
        "        4,  5,  6,  7,  8,  9])"
       ]
      }
     ],
     "prompt_number": 8
    },
    {
     "cell_type": "code",
     "collapsed": false,
     "input": [
      "import scipy.io\n",
      "import os.path\n",
      "import sys\n",
      "import numpy as np\n",
      "import matplotlib as mpl\n",
      "#mpl.use('Agg')\n",
      "\n",
      "import matplotlib.pyplot as plt\n",
      "import matplotlib.gridspec as gridspec\n",
      "import matplotlib.cm as cm\n",
      "sys.path.append(os.path.expanduser('/Users/huifangwang/MULANII/programs/Inference/'))\n",
      "import mln_cal_mat_mltp as mi\n",
      "\n",
      "sys.path.append(os.path.expanduser('/Users/huifangwang/MULANII/programs/Demonstrate/'))\n",
      "import mln_plt_demonstration as md\n",
      "import itertools\n",
      "\n",
      "Gs=[(0,0,1),(1,0,0)]\n",
      "th1s=50\n",
      "th2s=60\n",
      "th1f=60\n",
      "th2f=70\n",
      "basicdir='/Volumes/Lioncub/Users/huifangwang/MULAN2/SPM/nmm16sN30Vcsds/'\n",
      "\n",
      "pltflag=0\n",
      "istru=1\n",
      "forceRMat=0\n",
      "\n",
      "mmRule=[(2,[0.95],[0.95]),(1,[0.92],[0.92])]\n",
      "savedir=basicdir+'/MlnResults/'+'S'+str(istru)+'/'+'Th1_'+str(th1s)+str(th1f)+'_Th2_'+str(th2s)+str(th2f)+'mmRule'+str(mmRule[1][1])+'/'\n",
      "\n",
      "if not os.path.exists(savedir):\n",
      "    os.makedirs(savedir)\n",
      "\n",
      "# for N30\n",
      " #(mlnValue,medianScore, meanScore)\n",
      "\n"
     ],
     "language": "python",
     "metadata": {},
     "outputs": [
      {
       "output_type": "stream",
       "stream": "stderr",
       "text": [
        "/Volumes/Lioncub/Applications/anaconda/lib/python2.7/site-packages/matplotlib/__init__.py:1256: UserWarning:  This call to matplotlib.use() has no effect\n",
        "because the backend has already been chosen;\n",
        "matplotlib.use() must be called *before* pylab, matplotlib.pyplot,\n",
        "or matplotlib.backends is imported for the first time.\n",
        "\n",
        "  warnings.warn(_use_error_msg)\n"
       ]
      }
     ],
     "prompt_number": 1
    },
    {
     "cell_type": "code",
     "collapsed": false,
     "input": [
      "basicnom='nmmN30L15CS10100S'+str(istru)+'N40100ds5'\n",
      "mdMat, mnMat, fMat,Rmat=mi.mln_cal_mat_mltp(basicdir,basicnom,Gs,th1s,th1f,istru,th2s,th2f,mmRule,pltflag=0)\n",
      "nchan,nchan=np.shape(fMat)\n",
      "# for N20*3\n",
      "signalgroup=[(1,10),(11,20),(21,30)];\n",
      "sg=(np.arange(len(signalgroup))+1).astype(int)\n",
      "mmRule=[(2,[0.95],[0.95]),(1,[0.9],[0.9])] #(mlnValue,medianScore,meanScore)\n",
      "ilist=itertools.combinations(sg,2)\n",
      "seticom=set(ilist)\n",
      "orginallabels=np.arange(1,nchan+1).astype(int)\n",
      "#print(orginallabels,nchan,fMat)\n",
      "N20fMat=[]\n",
      "for indset,ilistCa in enumerate(seticom):\n",
      "    basicnomsg=basicnom+'b'+str(ilistCa[0])+str(ilistCa[1])\n",
      "    nodelabels=np.concatenate([np.arange(signalgroup[ilistCa[0]-1][0],signalgroup[ilistCa[0]-1][1]+1).astype(int),np.arange(signalgroup[ilistCa[1]-1][0],signalgroup[ilistCa[1]-1][1]+1).astype(int)])\n",
      "    #print(nodelabels)\n",
      "    imdMat, imnMat, ifMat,iRmat=mi.mln_cal_mat_mltp(basicdir,basicnomsg,Gs,th1s,th1f,istru,th2s,th2f,mmRule,pltflag=0)\n",
      "    \n",
      "    ifMatO=np.zeros([nchan,nchan])\n",
      "    inchan=len(nodelabels)\n",
      "    for iind, inode in enumerate(nodelabels):\n",
      "        for jind,jnode in enumerate(nodelabels):\n",
      "            ifMatO[inode-1,jnode-1]=ifMat[iind,jind]\n",
      "    N20fMat.append(ifMatO)\n",
      "N20fMat.append(fMat)"
     ],
     "language": "python",
     "metadata": {},
     "outputs": [],
     "prompt_number": 2
    },
    {
     "cell_type": "code",
     "collapsed": false,
     "input": [
      "np.shape(N20fMat)\n",
      "NfMat=(N20fMat[0]+N20fMat[1]+N20fMat[2]+N20fMat[3])/3.0"
     ],
     "language": "python",
     "metadata": {},
     "outputs": [],
     "prompt_number": 26
    },
    {
     "cell_type": "code",
     "collapsed": false,
     "input": [
      "NfMat[3,2]"
     ],
     "language": "python",
     "metadata": {},
     "outputs": [
      {
       "metadata": {},
       "output_type": "pyout",
       "prompt_number": 31,
       "text": [
        "2.0"
       ]
      }
     ],
     "prompt_number": 31
    },
    {
     "cell_type": "code",
     "collapsed": false,
     "input": [
      "nodelabels"
     ],
     "language": "python",
     "metadata": {},
     "outputs": [
      {
       "metadata": {},
       "output_type": "pyout",
       "prompt_number": 3,
       "text": [
        "array([11, 12, 13, 14, 15, 16, 17, 18, 19, 20, 21, 22, 23, 24, 25, 26, 27,\n",
        "       28, 29, 30])"
       ]
      }
     ],
     "prompt_number": 3
    },
    {
     "cell_type": "code",
     "collapsed": false,
     "input": [
      "np.shape(ifMatO)\n",
      "\n",
      "print(inchan)"
     ],
     "language": "python",
     "metadata": {},
     "outputs": [
      {
       "output_type": "stream",
       "stream": "stdout",
       "text": [
        "20\n"
       ]
      }
     ],
     "prompt_number": 11
    },
    {
     "cell_type": "code",
     "collapsed": false,
     "input": [
      "sgnodelabels=[]\n",
      "for isg in sg:\n",
      "    sgnodelabels.append(np.arange(signalgroup[isg-1][0],signalgroup[isg-1][1]+1).astype(int))\n",
      "        "
     ],
     "language": "python",
     "metadata": {},
     "outputs": [],
     "prompt_number": 4
    },
    {
     "cell_type": "code",
     "collapsed": false,
     "input": [
      "NfMat=np.zeros([nchan,nchan])\n",
      "for iind, inode in enumerate(orginallabels):\n",
      "    lind=mln_find_subgroup(inode,sgnodelabels)\n",
      "    for jind, jnode in enumerate(orginallabels):\n",
      "        ac=sgnodelabels[lind]==jind\n",
      "        ijfMatSum=[N20fMat[i][iind][jind] for i in np.arange(4)]\n",
      "        if ac[ac.nonzero()]:\n",
      "            NfMat[iind,jind]=np.sum(ijfMatSum)/3.\n",
      "        else:\n",
      "            \n",
      "            NfMat[iind,jind]=np.sum(ijfMatSum)/2.\n",
      "            \n"
     ],
     "language": "python",
     "metadata": {},
     "outputs": [],
     "prompt_number": 132
    },
    {
     "cell_type": "code",
     "collapsed": false,
     "input": [
      "hi=[N20fMat[i][0][1] for i in np.arange(4)]\n",
      "print hi"
     ],
     "language": "python",
     "metadata": {},
     "outputs": [
      {
       "output_type": "stream",
       "stream": "stdout",
       "text": [
        "[2.0, 2.0, 0.0, 2.0]\n"
       ]
      }
     ],
     "prompt_number": 131
    },
    {
     "cell_type": "code",
     "collapsed": false,
     "input": [
      "def mln_find_subgroup(inode,nodelabels):\n",
      "    for lind,ilabels in enumerate(nodelabels):\n",
      "        a=ilabels==inode\n",
      "        if a[a.nonzero()]:\n",
      "           return lind "
     ],
     "language": "python",
     "metadata": {},
     "outputs": [],
     "prompt_number": 92
    },
    {
     "cell_type": "code",
     "collapsed": false,
     "input": [
      "lind=mln_find_subgroup(21,sgnodelabels)\n",
      "print(lind)"
     ],
     "language": "python",
     "metadata": {},
     "outputs": [
      {
       "output_type": "stream",
       "stream": "stdout",
       "text": [
        "[ 1  2  3  4  5  6  7  8  9 10] 21\n",
        "[11 12 13 14 15 16 17 18 19 20] 21\n",
        "[21 22 23 24 25 26 27 28 29 30] 21\n",
        "2\n"
       ]
      }
     ],
     "prompt_number": 86
    },
    {
     "cell_type": "code",
     "collapsed": false,
     "input": [
      "a=sgnodelabels[0]==11"
     ],
     "language": "python",
     "metadata": {},
     "outputs": [],
     "prompt_number": 75
    },
    {
     "cell_type": "code",
     "collapsed": false,
     "input": [
      "if a[a.nonzero()]:\n",
      "    print(a[a.nonzero()])\n"
     ],
     "language": "python",
     "metadata": {},
     "outputs": [],
     "prompt_number": 78
    },
    {
     "cell_type": "code",
     "collapsed": false,
     "input": [
      "f=np.floor(1.6)\n",
      "print f"
     ],
     "language": "python",
     "metadata": {},
     "outputs": [
      {
       "output_type": "stream",
       "stream": "stdout",
       "text": [
        "1.0\n"
       ]
      }
     ],
     "prompt_number": 140
    },
    {
     "cell_type": "code",
     "collapsed": false,
     "input": [],
     "language": "python",
     "metadata": {},
     "outputs": []
    }
   ],
   "metadata": {}
  }
 ]
}