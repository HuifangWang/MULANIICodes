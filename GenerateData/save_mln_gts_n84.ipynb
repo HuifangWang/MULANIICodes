{
 "cells": [
  {
   "cell_type": "code",
   "execution_count": 1,
   "metadata": {
    "collapsed": true
   },
   "outputs": [],
   "source": [
    "import numpy as np\n",
    "import random"
   ]
  },
  {
   "cell_type": "code",
   "execution_count": 2,
   "metadata": {
    "collapsed": true
   },
   "outputs": [],
   "source": [
    "nchan = 84\n",
    "Nst = 100"
   ]
  },
  {
   "cell_type": "code",
   "execution_count": 9,
   "metadata": {
    "collapsed": false
   },
   "outputs": [],
   "source": [
    "import os, sys\n",
    "strunctfiledir='/Users/huifangwang/MULANa/humanCon/100-count-length-csv/'\n",
    "dirs = os.listdir(strunctfiledir)\n",
    "AllMat=[]\n",
    "\n",
    "# This would print all the files and directories\n",
    "for bfile in dirs:\n",
    "    strunctfile=strunctfiledir+bfile+'/TVB/count.csv'\n",
    "    try:\n",
    "        csv = np.genfromtxt (strunctfile, delimiter=\"\")\n",
    "    #chan_ch=random.sample(set(range(84)), nchan)\n",
    "    except:\n",
    "        continue\n",
    "    sMat_raw=np.log10(csv/32+0.00001)\n",
    "    sMat_norm=sMat_raw/sMat_raw.max()\n",
    "    sMat_norm[sMat_norm < 0] = 0\n",
    "    if np.shape(AllMat)[0]<1:\n",
    "        AllMat = np.expand_dims(sMat_norm,axis=2)\n",
    "    else:\n",
    "        AllMat = np.concatenate([AllMat,np.expand_dims(sMat_norm,axis=2)],axis=2)\n",
    "    #Mat_raw=csv[chan_ch][:,chan_ch]\n",
    "    #Mat_norm=Mat_raw/Mat_raw.max()\n",
    "    "
   ]
  },
  {
   "cell_type": "code",
   "execution_count": 10,
   "metadata": {
    "collapsed": false
   },
   "outputs": [],
   "source": [
    "import scipy.io\n",
    "filename = strunctfiledir + 'stru100hConN84p32.mat'\n",
    "a={'sMat': AllMat}\n",
    "\n",
    "scipy.io.savemat(filename,a)"
   ]
  },
  {
   "cell_type": "code",
   "execution_count": 4,
   "metadata": {
    "collapsed": false
   },
   "outputs": [
    {
     "data": {
      "text/plain": [
       "(84, 84, 100)"
      ]
     },
     "execution_count": 4,
     "metadata": {},
     "output_type": "execute_result"
    }
   ],
   "source": [
    "AllMat.shape"
   ]
  },
  {
   "cell_type": "code",
   "execution_count": 5,
   "metadata": {
    "collapsed": false
   },
   "outputs": [
    {
     "name": "stdout",
     "output_type": "stream",
     "text": [
      "Populating the interactive namespace from numpy and matplotlib\n"
     ]
    },
    {
     "name": "stderr",
     "output_type": "stream",
     "text": [
      "WARNING: pylab import has clobbered these variables: ['random']\n",
      "`%matplotlib` prevents importing * from pylab and numpy\n"
     ]
    }
   ],
   "source": [
    "%pylab inline"
   ]
  },
  {
   "cell_type": "code",
   "execution_count": 11,
   "metadata": {
    "collapsed": false
   },
   "outputs": [
    {
     "data": {
      "text/plain": [
       "<matplotlib.colorbar.Colorbar at 0x10d0d7828>"
      ]
     },
     "execution_count": 11,
     "metadata": {},
     "output_type": "execute_result"
    },
    {
     "data": {
      "image/png": "[encoded data removed]",
      "text/plain": [
       "<matplotlib.figure.Figure at 0x10d008ba8>"
      ]
     },
     "metadata": {},
     "output_type": "display_data"
    }
   ],
   "source": [
    "plt.imshow(AllMat[:,:,5],interpolation='nearest')\n",
    "plt.colorbar()\n",
    "    "
   ]
  },
  {
   "cell_type": "code",
   "execution_count": 12,
   "metadata": {
    "collapsed": false
   },
   "outputs": [
    {
     "data": {
      "text/plain": [
       "32"
      ]
     },
     "execution_count": 12,
     "metadata": {},
     "output_type": "execute_result"
    },
    {
     "data": {
      "image/png": "[encoded data removed]",
      "text/plain": [
       "<matplotlib.figure.Figure at 0x10cf55860>"
      ]
     },
     "metadata": {},
     "output_type": "display_data"
    }
   ],
   "source": [
    "\n",
    "plt.imshow(AllMat[:,:,6],interpolation='nearest')\n",
    "plt.colorbar()\n",
    "\n",
    "np.sum(sMat_norm>0.8)"
   ]
  },
  {
   "cell_type": "code",
   "execution_count": 13,
   "metadata": {
    "collapsed": false
   },
   "outputs": [
    {
     "data": {
      "text/plain": [
       "90"
      ]
     },
     "execution_count": 13,
     "metadata": {},
     "output_type": "execute_result"
    }
   ],
   "source": [
    "sMat_raw=np.log10(csv+0.00001)\n",
    "\n",
    "sMat_norm=sMat_raw/sMat_raw.max()\n",
    "\n",
    "#plt.imshow(sMat_norm)\n",
    "\n",
    "np.sum(sMat_norm>0.8)"
   ]
  },
  {
   "cell_type": "code",
   "execution_count": null,
   "metadata": {
    "collapsed": true
   },
   "outputs": [],
   "source": []
  }
 ],
 "metadata": {
  "kernelspec": {
   "display_name": "Python 3",
   "language": "python",
   "name": "python3"
  },
  "language_info": {
   "codemirror_mode": {
    "name": "ipython",
    "version": 3
   },
   "file_extension": ".py",
   "mimetype": "text/x-python",
   "name": "python",
   "nbconvert_exporter": "python",
   "pygments_lexer": "ipython3",
   "version": "3.5.1"
  }
 },
 "nbformat": 4,
 "nbformat_minor": 0
}
